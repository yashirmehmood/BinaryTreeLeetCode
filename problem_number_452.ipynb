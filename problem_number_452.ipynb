{
  "nbformat": 4,
  "nbformat_minor": 0,
  "metadata": {
    "colab": {
      "name": "problem number 452.ipynb",
      "provenance": [],
      "collapsed_sections": [],
      "authorship_tag": "ABX9TyOrw73M8nt/Ba52Jm78TPlG",
      "include_colab_link": true
    },
    "kernelspec": {
      "name": "python3",
      "display_name": "Python 3"
    },
    "language_info": {
      "name": "python"
    }
  },
  "cells": [
    {
      "cell_type": "markdown",
      "metadata": {
        "id": "view-in-github",
        "colab_type": "text"
      },
      "source": [
        "<a href=\"https://colab.research.google.com/github/yashirmehmood/LeetCodeProblems/blob/main/problem_number_452.ipynb\" target=\"_parent\"><img src=\"https://colab.research.google.com/assets/colab-badge.svg\" alt=\"Open In Colab\"/></a>"
      ]
    },
    {
      "cell_type": "code",
      "metadata": {
        "id": "1nHzbKADFFXy",
        "colab": {
          "base_uri": "https://localhost:8080/"
        },
        "outputId": "c38b39ee-5ff3-4a61-ed3f-d2fd4d6bed30"
      },
      "source": [
        "#=========  problem number 452 =============\n",
        "def MinimumBaloonBurst(arr):\n",
        "  if len(arr)==0 or not arr:  # if length of array is zero then return\n",
        "    return 0\n",
        "  tup = sorted(arr, key=lambda item: item[1])   # sort the arr according to second element of tuple\n",
        "  print(tup)\n",
        "  result=1\n",
        "  end=tup[0][1]\n",
        "  for i in range(1,len(tup)):\n",
        "    if tup[i][0]>end:\n",
        "      result+=1\n",
        "      end=tup[i][1]\n",
        "  return result\n",
        "\n",
        "arr=[[10,16],[2,8],[1,6],[7,12]]\n",
        "ans=MinimumBaloonBurst(arr)\n",
        "print(ans)"
      ],
      "execution_count": 20,
      "outputs": [
        {
          "output_type": "stream",
          "text": [
            "[[1, 6], [2, 8], [7, 12], [10, 16]]\n",
            "2\n"
          ],
          "name": "stdout"
        }
      ]
    }
  ]
}