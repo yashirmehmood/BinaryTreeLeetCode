{
  "nbformat": 4,
  "nbformat_minor": 0,
  "metadata": {
    "colab": {
      "name": "problem number 1370.ipynb",
      "provenance": [],
      "collapsed_sections": [],
      "authorship_tag": "ABX9TyMnA+zGAynXzaSzpGZF4sjg",
      "include_colab_link": true
    },
    "kernelspec": {
      "name": "python3",
      "display_name": "Python 3"
    },
    "language_info": {
      "name": "python"
    }
  },
  "cells": [
    {
      "cell_type": "markdown",
      "metadata": {
        "id": "view-in-github",
        "colab_type": "text"
      },
      "source": [
        "<a href=\"https://colab.research.google.com/github/yashirmehmood/LeetCodeProblems/blob/main/problem_number_1370.ipynb\" target=\"_parent\"><img src=\"https://colab.research.google.com/assets/colab-badge.svg\" alt=\"Open In Colab\"/></a>"
      ]
    },
    {
      "cell_type": "code",
      "metadata": {
        "id": "1nHzbKADFFXy",
        "colab": {
          "base_uri": "https://localhost:8080/"
        },
        "outputId": "13db4dbc-05e0-4ea7-ef5b-f5a9c1059b73"
      },
      "source": [
        "#=========  problem number 1370 =============\n",
        "def SortArray(array_):\n",
        "  mydict={}\n",
        "  numberofValues_=0\n",
        "  reverse=False\n",
        "  newlist_=''\n",
        "  for ch in array_:\n",
        "    if ch not in mydict.keys():\n",
        "      mydict[ch]=1\n",
        "      numberofValues_+=1\n",
        "    else:\n",
        "      mydict[ch]=mydict[ch]+1\n",
        "  tup = sorted(mydict.items(), key=lambda item: item[0])\n",
        "  start=0\n",
        "  end=numberofValues_\n",
        "  fact=1\n",
        "  newtup=[]\n",
        "  while numberofValues_>0:\n",
        "    if reverse==False:\n",
        "      start=0\n",
        "      end=numberofValues_\n",
        "      fact=1\n",
        "    else:\n",
        "      start=numberofValues_-1\n",
        "      end=-1\n",
        "      fact=-1\n",
        "    if len(newtup)>0:\n",
        "      tup=newtup.copy()\n",
        "      newtup.clear()\n",
        "    for i in range(start,end,fact):\n",
        "      if tup[i][1]>0:\n",
        "        newlist_+=tup[i][0]\n",
        "        freq=(tup[i][1])-1\n",
        "        tup[i]=([tup[i][0],freq])\n",
        "      if tup[i][1]<=0:\n",
        "        numberofValues_-=1\n",
        "      else:\n",
        "        newtup.append(tup[i])\n",
        "    reverse=not reverse\n",
        "  return newlist_\n",
        "arr='leetcode'\n",
        "result=SortArray(arr)\n",
        "print(result)"
      ],
      "execution_count": 19,
      "outputs": [
        {
          "output_type": "stream",
          "text": [
            "cdelotee\n"
          ],
          "name": "stdout"
        }
      ]
    }
  ]
}