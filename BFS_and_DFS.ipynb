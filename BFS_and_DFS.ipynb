{
  "nbformat": 4,
  "nbformat_minor": 0,
  "metadata": {
    "colab": {
      "name": "BFS and DFS.ipynb",
      "provenance": [],
      "collapsed_sections": [],
      "authorship_tag": "ABX9TyM9qjxZ3P+TbTnrLMNCIYRc",
      "include_colab_link": true
    },
    "kernelspec": {
      "name": "python3",
      "display_name": "Python 3"
    },
    "language_info": {
      "name": "python"
    }
  },
  "cells": [
    {
      "cell_type": "markdown",
      "metadata": {
        "id": "view-in-github",
        "colab_type": "text"
      },
      "source": [
        "<a href=\"https://colab.research.google.com/github/yashirmehmood/BinaryTreeLeetCode/blob/main/BFS_and_DFS.ipynb\" target=\"_parent\"><img src=\"https://colab.research.google.com/assets/colab-badge.svg\" alt=\"Open In Colab\"/></a>"
      ]
    },
    {
      "cell_type": "code",
      "metadata": {
        "id": "1nHzbKADFFXy",
        "colab": {
          "base_uri": "https://localhost:8080/"
        },
        "outputId": "fbe3a6bc-6e72-4f31-9c10-d04f94dce67c"
      },
      "source": [
        "class Node(object):\n",
        "\tdef __init__(self, name):\n",
        "\t\tself.name = name;\n",
        "\t\tself.adjacencyList = [];\n",
        "\t\tself.visited = False;\n",
        "\t\tself.predecessor = None;\n",
        "class BreadthFirstSearch(object):\n",
        "\tdef bfs(self, startNode):\n",
        "\t\tqueue = [];\n",
        "\t\tqueue.append(startNode);\n",
        "\t\tstartNode.visited = True;\n",
        "\t\t# BFS -> queue      DFS --> stack BUT usually we implement it with recursion !!!\n",
        "\t\twhile queue:\n",
        "\t\t\tactualNode = queue.pop(0);\n",
        "\t\t\tprint(\"%s \" % actualNode.name);\n",
        "\t\t\tfor n in actualNode.adjacencyList:\n",
        "\t\t\t\tif not n.visited:\n",
        "\t\t\t\t\tn.visited = True;\n",
        "\t\t\t\t\tqueue.append(n);\n",
        "node1 = Node(\"A\");\n",
        "node2 = Node(\"B\");\n",
        "node3 = Node(\"C\");\n",
        "node4 = Node(\"D\");\n",
        "node5 = Node(\"E\");\n",
        "node1.adjacencyList.append(node2);\n",
        "node1.adjacencyList.append(node3);\n",
        "node2.adjacencyList.append(node4);\n",
        "node4.adjacencyList.append(node5);\n",
        "bfs = BreadthFirstSearch();\n",
        "bfs.bfs(node1);"
      ],
      "execution_count": 33,
      "outputs": [
        {
          "output_type": "stream",
          "text": [
            "A \n",
            "B \n",
            "C \n",
            "D \n",
            "E \n"
          ],
          "name": "stdout"
        }
      ]
    }
  ]
}