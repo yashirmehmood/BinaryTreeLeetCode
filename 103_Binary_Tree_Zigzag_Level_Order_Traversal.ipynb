{
  "nbformat": 4,
  "nbformat_minor": 0,
  "metadata": {
    "colab": {
      "name": "103. Binary Tree Zigzag Level Order Traversal.ipynb",
      "provenance": [],
      "collapsed_sections": [],
      "authorship_tag": "ABX9TyN4gZyxmNlK654eq45mTF+E",
      "include_colab_link": true
    },
    "kernelspec": {
      "name": "python3",
      "display_name": "Python 3"
    },
    "language_info": {
      "name": "python"
    }
  },
  "cells": [
    {
      "cell_type": "markdown",
      "metadata": {
        "id": "view-in-github",
        "colab_type": "text"
      },
      "source": [
        "<a href=\"https://colab.research.google.com/github/yashirmehmood/LeetCodeProblems/blob/main/103_Binary_Tree_Zigzag_Level_Order_Traversal.ipynb\" target=\"_parent\"><img src=\"https://colab.research.google.com/assets/colab-badge.svg\" alt=\"Open In Colab\"/></a>"
      ]
    },
    {
      "cell_type": "code",
      "metadata": {
        "id": "1nHzbKADFFXy",
        "colab": {
          "base_uri": "https://localhost:8080/",
          "height": 131
        },
        "outputId": "def7ec4f-b8fb-4df8-cc5c-980d0ad6eb47"
      },
      "source": [
        "#===================== 103. Binary Tree Zigzag Level Order Traversal ========================\n",
        "  def zigzagLevelOrder(self, root):\n",
        "    result = []\n",
        "    reverse=False\n",
        "    def zigzag(node, level,rev):\n",
        "        if not node:\n",
        "            return\n",
        "        if len(result) <= level:\n",
        "            arr=[]\n",
        "            arr.append(node.data)\n",
        "            result.append(arr)\n",
        "        else:\n",
        "          arr=result[level]\n",
        "          if rev==False:\n",
        "            arr.append(node.data)\n",
        "          else:\n",
        "            arr.insert(0,node.data)\n",
        "          result[level]=arr\n",
        "        if node.leftChild:\n",
        "            zigzag(node.leftChild, level+1,rev=not rev)\n",
        "        if node.rightChild:\n",
        "            zigzag(node.rightChild, level+1,rev=not rev)\n",
        "    zigzag(root, 0,reverse)\n",
        "    return result\n",
        "   #================================================================================================\n",
        "\n",
        "bst = BinarySearchTree()\n",
        "bst.insert(10)\n",
        "bst.insert(5)\n",
        "bst.insert(-5)\n",
        "bst.insert(-7)\n",
        "bst.insert(79)\n",
        "bst.insert(34)\n",
        "bst.insert(101)\n",
        "bst.insert(14)\n",
        "print(bst.zigzagLevelOrder(bst.root))"
      ],
      "execution_count": null,
      "outputs": [
        {
          "output_type": "error",
          "ename": "IndentationError",
          "evalue": "ignored",
          "traceback": [
            "\u001b[0;36m  File \u001b[0;32m\"<ipython-input-24-d147514cafdc>\"\u001b[0;36m, line \u001b[0;32m2\u001b[0m\n\u001b[0;31m    def zigzagLevelOrder(self, root):\u001b[0m\n\u001b[0m    ^\u001b[0m\n\u001b[0;31mIndentationError\u001b[0m\u001b[0;31m:\u001b[0m unexpected indent\n"
          ]
        }
      ]
    }
  ]
}