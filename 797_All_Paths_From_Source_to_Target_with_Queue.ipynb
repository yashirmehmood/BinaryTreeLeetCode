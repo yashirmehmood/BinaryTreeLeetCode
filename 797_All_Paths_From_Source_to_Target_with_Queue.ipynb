{
  "nbformat": 4,
  "nbformat_minor": 0,
  "metadata": {
    "colab": {
      "name": "797. All Paths From Source to Target with Queue.ipynb",
      "provenance": [],
      "collapsed_sections": [],
      "authorship_tag": "ABX9TyOxaJxlR9B5kNog5pzFxK0m",
      "include_colab_link": true
    },
    "kernelspec": {
      "name": "python3",
      "display_name": "Python 3"
    },
    "language_info": {
      "name": "python"
    }
  },
  "cells": [
    {
      "cell_type": "markdown",
      "metadata": {
        "id": "view-in-github",
        "colab_type": "text"
      },
      "source": [
        "<a href=\"https://colab.research.google.com/github/yashirmehmood/BinaryTreeLeetCode/blob/main/797_All_Paths_From_Source_to_Target_with_Queue.ipynb\" target=\"_parent\"><img src=\"https://colab.research.google.com/assets/colab-badge.svg\" alt=\"Open In Colab\"/></a>"
      ]
    },
    {
      "cell_type": "code",
      "metadata": {
        "id": "1nHzbKADFFXy",
        "colab": {
          "base_uri": "https://localhost:8080/"
        },
        "outputId": "d5614c7c-f0e7-433d-fb84-c115a2b87fc3"
      },
      "source": [
        "#============== 797. All Paths From Source to Target ========\n",
        "# Method 3 With Queue BFS\n",
        "def allPathsSourceTarget(graph):\n",
        "  result=[]\n",
        "  queue_=[[0]]\n",
        "  uptoLimit_=len(graph)-1\n",
        "  while queue_:\n",
        "    temp=queue_.pop(0)\n",
        "    if temp[-1]==uptoLimit_:\n",
        "      result.append(temp)\n",
        "    else:\n",
        "      for nieghbour in graph[temp[-1]]:\n",
        "        queue_.append(temp+[nieghbour])\n",
        "  return result\n",
        "\n",
        "graph = [[4,3,1],[3,2,4],[3],[4],[]]\n",
        "print(allPathsSourceTarget(graph))"
      ],
      "execution_count": 37,
      "outputs": [
        {
          "output_type": "stream",
          "text": [
            "[[0, 4], [0, 3, 4], [0, 1, 4], [0, 1, 3, 4], [0, 1, 2, 3, 4]]\n"
          ],
          "name": "stdout"
        }
      ]
    }
  ]
}