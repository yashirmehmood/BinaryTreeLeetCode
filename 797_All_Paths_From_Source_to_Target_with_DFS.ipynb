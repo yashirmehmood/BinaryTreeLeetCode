{
  "nbformat": 4,
  "nbformat_minor": 0,
  "metadata": {
    "colab": {
      "name": "797. All Paths From Source to Target with DFS.ipynb",
      "provenance": [],
      "collapsed_sections": [],
      "authorship_tag": "ABX9TyP1yGMLGblin53Mxe23xKj+",
      "include_colab_link": true
    },
    "kernelspec": {
      "name": "python3",
      "display_name": "Python 3"
    },
    "language_info": {
      "name": "python"
    }
  },
  "cells": [
    {
      "cell_type": "markdown",
      "metadata": {
        "id": "view-in-github",
        "colab_type": "text"
      },
      "source": [
        "<a href=\"https://colab.research.google.com/github/yashirmehmood/BinaryTreeLeetCode/blob/main/797_All_Paths_From_Source_to_Target_with_DFS.ipynb\" target=\"_parent\"><img src=\"https://colab.research.google.com/assets/colab-badge.svg\" alt=\"Open In Colab\"/></a>"
      ]
    },
    {
      "cell_type": "code",
      "metadata": {
        "id": "1nHzbKADFFXy",
        "colab": {
          "base_uri": "https://localhost:8080/"
        },
        "outputId": "a54acd6e-5e1d-426f-d54f-6b014dc4c328"
      },
      "source": [
        "#============== 797. All Paths From Source to Target ========\n",
        "# Method 2 With Stack DFS\n",
        "def allPathsSourceTarget(graph):\n",
        "        result = []\n",
        "        stack = [(0, [0])]\n",
        "        uptoLimit = len(graph) - 1\n",
        "        while stack:\n",
        "            index_,path = stack.pop()\n",
        "            if index_ == uptoLimit:\n",
        "                result.append(path)\n",
        "            else:\n",
        "                for node in graph[index_]:\n",
        "                    stack.append((node, path + [node]))\n",
        "        return result\n",
        "\n",
        "\n",
        "graph = [[4,3,1],[3,2,4],[3],[4],[]]\n",
        "print(allPathsSourceTarget(graph))"
      ],
      "execution_count": 36,
      "outputs": [
        {
          "output_type": "stream",
          "text": [
            "[[0, 1, 4], [0, 1, 2, 3, 4], [0, 1, 3, 4], [0, 3, 4], [0, 4]]\n"
          ],
          "name": "stdout"
        }
      ]
    }
  ]
}