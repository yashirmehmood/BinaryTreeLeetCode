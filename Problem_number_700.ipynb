{
  "nbformat": 4,
  "nbformat_minor": 0,
  "metadata": {
    "colab": {
      "name": "Problem number 700.ipynb",
      "provenance": [],
      "collapsed_sections": [],
      "authorship_tag": "ABX9TyNXXDEyDs042aai/zo/hegN",
      "include_colab_link": true
    },
    "kernelspec": {
      "name": "python3",
      "display_name": "Python 3"
    },
    "language_info": {
      "name": "python"
    }
  },
  "cells": [
    {
      "cell_type": "markdown",
      "metadata": {
        "id": "view-in-github",
        "colab_type": "text"
      },
      "source": [
        "<a href=\"https://colab.research.google.com/github/yashirmehmood/LeetCodeProblems/blob/main/Problem_number_700.ipynb\" target=\"_parent\"><img src=\"https://colab.research.google.com/assets/colab-badge.svg\" alt=\"Open In Colab\"/></a>"
      ]
    },
    {
      "cell_type": "code",
      "metadata": {
        "id": "1nHzbKADFFXy"
      },
      "source": [
        "#====== Problem number 700 ==================\n",
        "class Node:\n",
        "  def __init__(self, data, parent):\n",
        "    self.data = data\n",
        "    self.leftChild = None\n",
        "    self.rightChild = None\n",
        "    self.parent = parent\n",
        "class BinarySearchTree:\n",
        "  def __init__(self):\n",
        "    self.root = None\n",
        "  def insert(self, data):\n",
        "    if self.root is None:\n",
        "      self.root = Node(data, None)\n",
        "    else:\n",
        "      self.insert_node(data, self.root)\n",
        "  def insert_node(self, data, node):\n",
        "    if data < node.data:\n",
        "      if node.leftChild:\n",
        "        self.insert_node(data, node.leftChild)\n",
        "      else:\n",
        "        node.leftChild = Node(data, node)\n",
        "    else:\n",
        "      if node.rightChild:\n",
        "        self.insert_node(data, node.rightChild)\n",
        "      else:\n",
        "        node.rightChild = Node(data, node)"
      ],
      "execution_count": 21,
      "outputs": []
    }
  ]
}