{
  "nbformat": 4,
  "nbformat_minor": 0,
  "metadata": {
    "colab": {
      "name": "637. Average of Levels in Binary Tree.ipynb",
      "provenance": [],
      "collapsed_sections": [],
      "authorship_tag": "ABX9TyMNrQgT1Fu2iPb3LbOAFMmH",
      "include_colab_link": true
    },
    "kernelspec": {
      "name": "python3",
      "display_name": "Python 3"
    },
    "language_info": {
      "name": "python"
    }
  },
  "cells": [
    {
      "cell_type": "markdown",
      "metadata": {
        "id": "view-in-github",
        "colab_type": "text"
      },
      "source": [
        "<a href=\"https://colab.research.google.com/github/yashirmehmood/LeetCodeProblems/blob/main/637_Average_of_Levels_in_Binary_Tree.ipynb\" target=\"_parent\"><img src=\"https://colab.research.google.com/assets/colab-badge.svg\" alt=\"Open In Colab\"/></a>"
      ]
    },
    {
      "cell_type": "code",
      "metadata": {
        "id": "1nHzbKADFFXy",
        "colab": {
          "base_uri": "https://localhost:8080/",
          "height": 131
        },
        "outputId": "6cc65d38-4b75-472c-ad4f-8edf54e1252a"
      },
      "source": [
        " #====================  637. Average of Levels in Binary Tree =============================\n",
        "  def averageOfLevels(self, root):\n",
        "      result = []\n",
        "      count = []\n",
        "      def getLevelSum(node, level):\n",
        "          if not node:\n",
        "              return\n",
        "          if len(result) <= level:\n",
        "              result.append(node.data)\n",
        "              count.append(1)\n",
        "          else:\n",
        "              result[level] += node.data\n",
        "              count[level] += 1\n",
        "          if node.leftChild:\n",
        "              getLevelSum(node.leftChild, level+1)\n",
        "          if node.rightChild:\n",
        "              getLevelSum(node.rightChild, level+1)\n",
        "      getLevelSum(root, 0)\n",
        "      average=[]\n",
        "      for i in range(0,len(result)):\n",
        "          av=float(float(result[i])/float(count[i]))\n",
        "          average.append(av)\n",
        "      return average"
      ],
      "execution_count": 23,
      "outputs": [
        {
          "output_type": "error",
          "ename": "IndentationError",
          "evalue": "ignored",
          "traceback": [
            "\u001b[0;36m  File \u001b[0;32m\"<ipython-input-23-75b59d451cba>\"\u001b[0;36m, line \u001b[0;32m2\u001b[0m\n\u001b[0;31m    def averageOfLevels(self, root):\u001b[0m\n\u001b[0m    ^\u001b[0m\n\u001b[0;31mIndentationError\u001b[0m\u001b[0;31m:\u001b[0m unexpected indent\n"
          ]
        }
      ]
    }
  ]
}