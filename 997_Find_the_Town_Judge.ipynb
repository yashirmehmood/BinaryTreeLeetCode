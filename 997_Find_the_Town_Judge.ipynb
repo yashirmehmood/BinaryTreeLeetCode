{
  "nbformat": 4,
  "nbformat_minor": 0,
  "metadata": {
    "colab": {
      "name": "997. Find the Town Judge.ipynb",
      "provenance": [],
      "collapsed_sections": [],
      "authorship_tag": "ABX9TyO1VMNd+hZ9px3Nhx2ddZdZ",
      "include_colab_link": true
    },
    "kernelspec": {
      "name": "python3",
      "display_name": "Python 3"
    },
    "language_info": {
      "name": "python"
    }
  },
  "cells": [
    {
      "cell_type": "markdown",
      "metadata": {
        "id": "view-in-github",
        "colab_type": "text"
      },
      "source": [
        "<a href=\"https://colab.research.google.com/github/yashirmehmood/BinaryTreeLeetCode/blob/main/997_Find_the_Town_Judge.ipynb\" target=\"_parent\"><img src=\"https://colab.research.google.com/assets/colab-badge.svg\" alt=\"Open In Colab\"/></a>"
      ]
    },
    {
      "cell_type": "code",
      "metadata": {
        "id": "1nHzbKADFFXy",
        "colab": {
          "base_uri": "https://localhost:8080/"
        },
        "outputId": "a871975a-32ea-4a37-b8e9-41f0cba09725"
      },
      "source": [
        "#============== 997. Find the Town Judge ========\n",
        "def findJudge(Nodes, trust):\n",
        "    in_degree = [0]*Nodes\n",
        "    out_degree = [0]*Nodes\n",
        "    \n",
        "    for a, b in trust:\n",
        "        out_degree[a-1] += 1\n",
        "        in_degree[b-1] += 1\n",
        "    \n",
        "    for i in range(Nodes):\n",
        "        if out_degree[i] == 0 and in_degree[i] == Nodes-1:\n",
        "            return i + 1\n",
        "        \n",
        "    return -1\n",
        "\n",
        "trust = [[1,3],[1,4],[2,3],[2,4],[4,3]]\n",
        "Nodes = 4\n",
        "print(findJudge(Nodes,trust))"
      ],
      "execution_count": 34,
      "outputs": [
        {
          "output_type": "stream",
          "text": [
            "3\n"
          ],
          "name": "stdout"
        }
      ]
    }
  ]
}