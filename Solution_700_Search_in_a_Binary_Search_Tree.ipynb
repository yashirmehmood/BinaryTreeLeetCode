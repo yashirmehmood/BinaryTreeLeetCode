{
  "nbformat": 4,
  "nbformat_minor": 0,
  "metadata": {
    "colab": {
      "name": "Solution 700. Search in a Binary Search Tree.ipynb",
      "provenance": [],
      "collapsed_sections": [],
      "authorship_tag": "ABX9TyNASlQipq6ePci7G6GfvYxi",
      "include_colab_link": true
    },
    "kernelspec": {
      "name": "python3",
      "display_name": "Python 3"
    },
    "language_info": {
      "name": "python"
    }
  },
  "cells": [
    {
      "cell_type": "markdown",
      "metadata": {
        "id": "view-in-github",
        "colab_type": "text"
      },
      "source": [
        "<a href=\"https://colab.research.google.com/github/yashirmehmood/LeetCodeProblems/blob/main/Solution_700_Search_in_a_Binary_Search_Tree.ipynb\" target=\"_parent\"><img src=\"https://colab.research.google.com/assets/colab-badge.svg\" alt=\"Open In Colab\"/></a>"
      ]
    },
    {
      "cell_type": "code",
      "metadata": {
        "id": "1nHzbKADFFXy",
        "outputId": "438e185e-61de-4824-e307-c913e560a9e1",
        "colab": {
          "base_uri": "https://localhost:8080/",
          "height": 131
        }
      },
      "source": [
        "#==================== Solution 700. Search in a Binary Search Tree ====================\n",
        "  def searchBST(self,root, val):\n",
        "    if not root:\n",
        "      return None\n",
        "    if root.data < val:\n",
        "      return self.searchBST(root.rightChild, val)\n",
        "    elif root.data > val:\n",
        "      return self.searchBST(root.leftChild, val)\n",
        "    elif root.data==val:\n",
        "      return root\n",
        "    # while root:\n",
        "    #   if root.data < val:\n",
        "    #     root = root.rightChild\n",
        "    #   elif root.data > val:\n",
        "    #     root = root.leftChild\n",
        "    #   else: break\n",
        "    # return root"
      ],
      "execution_count": 22,
      "outputs": [
        {
          "output_type": "error",
          "ename": "IndentationError",
          "evalue": "ignored",
          "traceback": [
            "\u001b[0;36m  File \u001b[0;32m\"<ipython-input-22-2edcccc40b98>\"\u001b[0;36m, line \u001b[0;32m2\u001b[0m\n\u001b[0;31m    def searchBST(self,root, val):\u001b[0m\n\u001b[0m    ^\u001b[0m\n\u001b[0;31mIndentationError\u001b[0m\u001b[0;31m:\u001b[0m unexpected indent\n"
          ]
        }
      ]
    }
  ]
}