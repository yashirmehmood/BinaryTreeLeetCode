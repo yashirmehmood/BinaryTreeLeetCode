{
  "nbformat": 4,
  "nbformat_minor": 0,
  "metadata": {
    "colab": {
      "name": "797. All Paths From Source to Target.ipynb",
      "provenance": [],
      "collapsed_sections": [],
      "authorship_tag": "ABX9TyP6ikQFJeyCOPFd+ldDYuR0",
      "include_colab_link": true
    },
    "kernelspec": {
      "name": "python3",
      "display_name": "Python 3"
    },
    "language_info": {
      "name": "python"
    }
  },
  "cells": [
    {
      "cell_type": "markdown",
      "metadata": {
        "id": "view-in-github",
        "colab_type": "text"
      },
      "source": [
        "<a href=\"https://colab.research.google.com/github/yashirmehmood/BinaryTreeLeetCode/blob/main/797_All_Paths_From_Source_to_Target.ipynb\" target=\"_parent\"><img src=\"https://colab.research.google.com/assets/colab-badge.svg\" alt=\"Open In Colab\"/></a>"
      ]
    },
    {
      "cell_type": "code",
      "metadata": {
        "id": "1nHzbKADFFXy",
        "colab": {
          "base_uri": "https://localhost:8080/"
        },
        "outputId": "53a59937-666c-4eef-844c-2d47b545444b"
      },
      "source": [
        "#============== 797. All Paths From Source to Target ========\n",
        "# Method 1 With Recursion DFS\n",
        "def allPathsSourceTarget(graph):\n",
        "        result = []\n",
        "        def dfs(n = 0, path = [0]):\n",
        "            if n < len(graph)-1:\n",
        "                arr=graph[n]\n",
        "                for i in arr:\n",
        "                    dfs(i, path+[i])\n",
        "            else:\n",
        "                result.append(path)\n",
        "        dfs()\n",
        "        return result\n",
        "\n",
        "graph = [[4,3,1],[3,2,4],[3],[4],[]]\n",
        "print(allPathsSourceTarget(graph))"
      ],
      "execution_count": 35,
      "outputs": [
        {
          "output_type": "stream",
          "text": [
            "[[0, 4], [0, 3, 4], [0, 1, 3, 4], [0, 1, 2, 3, 4], [0, 1, 4]]\n"
          ],
          "name": "stdout"
        }
      ]
    }
  ]
}