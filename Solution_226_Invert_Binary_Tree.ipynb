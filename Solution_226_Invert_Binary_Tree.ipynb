{
  "nbformat": 4,
  "nbformat_minor": 0,
  "metadata": {
    "colab": {
      "name": "Solution 226. Invert Binary Tree.ipynb",
      "provenance": [],
      "collapsed_sections": [],
      "authorship_tag": "ABX9TyNioIFYLAfObVISDNfYPaWu",
      "include_colab_link": true
    },
    "kernelspec": {
      "name": "python3",
      "display_name": "Python 3"
    },
    "language_info": {
      "name": "python"
    }
  },
  "cells": [
    {
      "cell_type": "markdown",
      "metadata": {
        "id": "view-in-github",
        "colab_type": "text"
      },
      "source": [
        "<a href=\"https://colab.research.google.com/github/yashirmehmood/LeetCodeProblems/blob/main/Solution_226_Invert_Binary_Tree.ipynb\" target=\"_parent\"><img src=\"https://colab.research.google.com/assets/colab-badge.svg\" alt=\"Open In Colab\"/></a>"
      ]
    },
    {
      "cell_type": "code",
      "metadata": {
        "id": "1nHzbKADFFXy",
        "colab": {
          "base_uri": "https://localhost:8080/",
          "height": 131
        },
        "outputId": "438e185e-61de-4824-e307-c913e560a9e1"
      },
      "source": [
        " #===========  Solution 226. Invert Binary Tree ==========================================\n",
        "  def invertTree(self, root):\n",
        "    if not root or (not root.leftChild and not root.rightChild):\n",
        "      return root\n",
        "    root.leftChild,root.rightChild=root.rightChild,root.leftChild\n",
        "    self.invertTree(root.leftChild)\n",
        "    self.invertTree(root.rightChild)\n",
        "    return root"
      ],
      "execution_count": null,
      "outputs": [
        {
          "output_type": "error",
          "ename": "IndentationError",
          "evalue": "ignored",
          "traceback": [
            "\u001b[0;36m  File \u001b[0;32m\"<ipython-input-22-2edcccc40b98>\"\u001b[0;36m, line \u001b[0;32m2\u001b[0m\n\u001b[0;31m    def searchBST(self,root, val):\u001b[0m\n\u001b[0m    ^\u001b[0m\n\u001b[0;31mIndentationError\u001b[0m\u001b[0;31m:\u001b[0m unexpected indent\n"
          ]
        }
      ]
    }
  ]
}