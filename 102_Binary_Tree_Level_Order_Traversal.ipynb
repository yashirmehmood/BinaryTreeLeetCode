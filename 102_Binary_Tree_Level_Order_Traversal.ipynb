{
  "nbformat": 4,
  "nbformat_minor": 0,
  "metadata": {
    "colab": {
      "name": "102. Binary Tree Level Order Traversal.ipynb",
      "provenance": [],
      "collapsed_sections": [],
      "authorship_tag": "ABX9TyPaDPgzlQ4Tud5bgM31LE+y",
      "include_colab_link": true
    },
    "kernelspec": {
      "name": "python3",
      "display_name": "Python 3"
    },
    "language_info": {
      "name": "python"
    }
  },
  "cells": [
    {
      "cell_type": "markdown",
      "metadata": {
        "id": "view-in-github",
        "colab_type": "text"
      },
      "source": [
        "<a href=\"https://colab.research.google.com/github/yashirmehmood/LeetCodeProblems/blob/main/102_Binary_Tree_Level_Order_Traversal.ipynb\" target=\"_parent\"><img src=\"https://colab.research.google.com/assets/colab-badge.svg\" alt=\"Open In Colab\"/></a>"
      ]
    },
    {
      "cell_type": "code",
      "metadata": {
        "id": "1nHzbKADFFXy",
        "colab": {
          "base_uri": "https://localhost:8080/",
          "height": 131
        },
        "outputId": "6cc65d38-4b75-472c-ad4f-8edf54e1252a"
      },
      "source": [
        " #==================== 102. Binary Tree Level Order Traversal =============================\n",
        "  def TreeTraversal(self, root):\n",
        "    result = []\n",
        "    def TreeOrder(node, level):\n",
        "        if not node:\n",
        "            return\n",
        "        if len(result) <= level:\n",
        "            arr=[]\n",
        "            arr.append(node.data)\n",
        "            result.append(arr)\n",
        "        else:\n",
        "          arr=result[level]\n",
        "          arr.append(node.data)\n",
        "          result[level]=arr\n",
        "        if node.leftChild:\n",
        "            TreeOrder(node.leftChild, level+1)\n",
        "        if node.rightChild:\n",
        "            TreeOrder(node.rightChild, level+1)\n",
        "    TreeOrder(root, 0)\n",
        "    return result"
      ],
      "execution_count": null,
      "outputs": [
        {
          "output_type": "error",
          "ename": "IndentationError",
          "evalue": "ignored",
          "traceback": [
            "\u001b[0;36m  File \u001b[0;32m\"<ipython-input-23-75b59d451cba>\"\u001b[0;36m, line \u001b[0;32m2\u001b[0m\n\u001b[0;31m    def averageOfLevels(self, root):\u001b[0m\n\u001b[0m    ^\u001b[0m\n\u001b[0;31mIndentationError\u001b[0m\u001b[0;31m:\u001b[0m unexpected indent\n"
          ]
        }
      ]
    }
  ]
}